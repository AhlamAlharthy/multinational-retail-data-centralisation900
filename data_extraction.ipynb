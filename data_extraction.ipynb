{
 "cells": [
  {
   "cell_type": "code",
   "execution_count": 3,
   "metadata": {},
   "outputs": [],
   "source": [
    "import psycopg2\n",
    "import pandas as pd"
   ]
  },
  {
   "cell_type": "markdown",
   "metadata": {},
   "source": [
    "Develop a method called read_rds_table in your DataExtractor class which will extract the database table to a pandas DataFrame.\n",
    "\n",
    "It will take in an instance of your DatabaseConnector class and the table name as an argument and return a pandas DataFrame.\n",
    "Use your list_db_tables method to get the name of the table containing user data.\n",
    "Use the read_rds_table method to extract the table containing user data and return a pandas DataFrame."
   ]
  },
  {
   "cell_type": "code",
   "execution_count": 6,
   "metadata": {},
   "outputs": [],
   "source": [
    "#This class will work as a utility class, in it you will be creating methods that help extract data from different data sources\n",
    "#The methods contained will ve fit to extract data from a particular data source, these sources will include CSV files, an API and an S3 bucket\n",
    "class DataExtraction:\n",
    "    def read_rds_table(self, db_connector, table_name): #this will extract the database table to a panda DataFrame. db_connector is an instance on the DatabaseConnector class.\n",
    "        engine = db_connector.init_db_engine()\n",
    "        query = f\"SELECT * FROM {table_name}\"\n",
    "        df = pd.read_sql(query, engine)\n",
    "        return df\n",
    "\n",
    "\n"
   ]
  },
  {
   "cell_type": "code",
   "execution_count": 7,
   "metadata": {},
   "outputs": [
    {
     "ename": "NameError",
     "evalue": "name 'DatabaseConnector' is not defined",
     "output_type": "error",
     "traceback": [
      "\u001b[0;31m---------------------------------------------------------------------------\u001b[0m",
      "\u001b[0;31mNameError\u001b[0m                                 Traceback (most recent call last)",
      "Cell \u001b[0;32mIn [7], line 1\u001b[0m\n\u001b[0;32m----> 1\u001b[0m db_connector \u001b[38;5;241m=\u001b[39m DatabaseConnector()\n\u001b[1;32m      2\u001b[0m data_extractor \u001b[38;5;241m=\u001b[39m DataExtractor()\n",
      "\u001b[0;31mNameError\u001b[0m: name 'DatabaseConnector' is not defined"
     ]
    }
   ],
   "source": [
    "db_connector = DatabaseConnector()\n",
    "data_extractor = DataExtractor()"
   ]
  },
  {
   "cell_type": "code",
   "execution_count": 8,
   "metadata": {},
   "outputs": [
    {
     "ename": "NameError",
     "evalue": "name 'db_connector' is not defined",
     "output_type": "error",
     "traceback": [
      "\u001b[0;31m---------------------------------------------------------------------------\u001b[0m",
      "\u001b[0;31mNameError\u001b[0m                                 Traceback (most recent call last)",
      "Cell \u001b[0;32mIn [8], line 1\u001b[0m\n\u001b[0;32m----> 1\u001b[0m tables_info \u001b[38;5;241m=\u001b[39m db_connector\u001b[38;5;241m.\u001b[39mlist_db_tables()\n\u001b[1;32m      2\u001b[0m user_table_name \u001b[38;5;241m=\u001b[39m \u001b[38;5;28mnext\u001b[39m((table \u001b[38;5;28;01mfor\u001b[39;00m table \u001b[38;5;129;01min\u001b[39;00m tables_info \u001b[38;5;28;01mif\u001b[39;00m \u001b[38;5;124m'\u001b[39m\u001b[38;5;124muser\u001b[39m\u001b[38;5;124m'\u001b[39m \u001b[38;5;129;01min\u001b[39;00m table\u001b[38;5;241m.\u001b[39mlower()), \u001b[38;5;28;01mNone\u001b[39;00m)\n\u001b[1;32m      4\u001b[0m \u001b[38;5;28;01mif\u001b[39;00m user_table_name:\n",
      "\u001b[0;31mNameError\u001b[0m: name 'db_connector' is not defined"
     ]
    }
   ],
   "source": [
    "tables_info = db_connector.list_db_tables()\n",
    "user_table_name = next((table for table in tables_info if 'user' in table.lower()), None)\n",
    "\n",
    "if user_table_name:\n",
    "    user_df = data_extractor.read_rds_table(db_connector, user_table_name)\n",
    "    print(user_df.head())\n",
    "else:\n",
    "    print(\"User table not found.\")"
   ]
  },
  {
   "cell_type": "code",
   "execution_count": null,
   "metadata": {},
   "outputs": [],
   "source": [
    "\n",
    "    def read_data_from_rds(self): #read the data from the RDS database\n",
    "        conn = psycopg2.connect(<connection_details>)\n",
    "        cursor = conn.cursor()\n",
    "\n",
    "        select_query = \"SELECT * FROM <table_name>\"\n",
    "\n",
    "        cursor.execute(select_query)\n",
    "        rows = cursor.fetchall\n",
    "    \n",
    "        for row in rows:\n",
    "             print (row)\n",
    "\n",
    "        cursor.close()\n",
    "        conn.close()\n"
   ]
  },
  {
   "cell_type": "markdown",
   "metadata": {},
   "source": [
    "## Stopped at end of step 4 ##"
   ]
  }
 ],
 "metadata": {
  "kernelspec": {
   "display_name": "Python 3.9.6 64-bit",
   "language": "python",
   "name": "python3"
  },
  "language_info": {
   "codemirror_mode": {
    "name": "ipython",
    "version": 3
   },
   "file_extension": ".py",
   "mimetype": "text/x-python",
   "name": "python",
   "nbconvert_exporter": "python",
   "pygments_lexer": "ipython3",
   "version": "3.9.6"
  },
  "orig_nbformat": 4,
  "vscode": {
   "interpreter": {
    "hash": "31f2aee4e71d21fbe5cf8b01ff0e069b9275f58929596ceb00d14d90e3e16cd6"
   }
  }
 },
 "nbformat": 4,
 "nbformat_minor": 2
}
