{
 "cells": [
  {
   "cell_type": "code",
   "execution_count": 43,
   "metadata": {},
   "outputs": [
    {
     "ename": "SyntaxError",
     "evalue": "invalid syntax (2879072941.py, line 1)",
     "output_type": "error",
     "traceback": [
      "\u001b[0;36m  Cell \u001b[0;32mIn [43], line 1\u001b[0;36m\u001b[0m\n\u001b[0;31m    pip install PyYAML\u001b[0m\n\u001b[0m        ^\u001b[0m\n\u001b[0;31mSyntaxError\u001b[0m\u001b[0;31m:\u001b[0m invalid syntax\n"
     ]
    }
   ],
   "source": [
    "pip install PyYAML\n",
    "import yaml\n",
    "\n",
    "from sqlalchemy import create_engine\n",
    "from sqlalchemy import inspect"
   ]
  },
  {
   "cell_type": "code",
   "execution_count": 44,
   "metadata": {},
   "outputs": [],
   "source": [
    "#This will be used to connect with and upload data to the database\n",
    "class DatabaseConnector:\n",
    "    def read_db_creds(self): #reads the credentials from the yaml file and returns it as a dictionary \n",
    "        with open('db-creds.yaml', 'r') as file:\n",
    "            creds = yaml.safe_load(file)\n",
    "            return creds\n",
    "           \n",
    "    def init_db_engine(self): #Uses the credentials to create and return an SQLAlchemy engine\n",
    "        creds = self.read_db_creds()\n",
    "        conn = (\n",
    "            f\"{creds['dialect']}://{creds['username']}:{creds['password']}@\"\n",
    "            f\"{creds['host']}:{creds['port']}/{creds['database']}\"\n",
    "        )\n",
    "        engine = create_engine(conn)\n",
    "        return engine\n",
    "\n",
    "    def list_db_tables(self): #lists all the table in the database\n",
    "        def list_db_tables(self):\n",
    "            engine = self.init_db_engine()\n",
    "            inspector = inspect(engine)\n",
    "            tables_info = {}\n",
    "\n",
    "            for table_name in inspector.get_table_names():\n",
    "                columns = [column['name'] for column in inspector.get_columns(table_name)]\n",
    "                tables_info[table_name] = columns\n",
    "                print(f\"Table: {table_name}\")\n",
    "                for column in columns:\n",
    "                    print(f\"  Column: {column}\")\n",
    "\n",
    "            print (tables_info)\n",
    "            return tables_info\n",
    "\n",
    "                \n",
    "\n",
    "\n",
    "\n",
    "\n"
   ]
  },
  {
   "cell_type": "code",
   "execution_count": 42,
   "metadata": {},
   "outputs": [
    {
     "name": "stdout",
     "output_type": "stream",
     "text": [
      "None\n"
     ]
    }
   ],
   "source": [
    "db_connector = DatabaseConnector()\n",
    "tables_info = db_connector.list_db_tables()\n",
    "print (tables_info)"
   ]
  }
 ],
 "metadata": {
  "kernelspec": {
   "display_name": "Python 3.9.6 64-bit",
   "language": "python",
   "name": "python3"
  },
  "language_info": {
   "codemirror_mode": {
    "name": "ipython",
    "version": 3
   },
   "file_extension": ".py",
   "mimetype": "text/x-python",
   "name": "python",
   "nbconvert_exporter": "python",
   "pygments_lexer": "ipython3",
   "version": "3.9.6"
  },
  "orig_nbformat": 4,
  "vscode": {
   "interpreter": {
    "hash": "31f2aee4e71d21fbe5cf8b01ff0e069b9275f58929596ceb00d14d90e3e16cd6"
   }
  }
 },
 "nbformat": 4,
 "nbformat_minor": 2
}
