{
 "cells": [
  {
   "cell_type": "code",
   "execution_count": 5,
   "metadata": {},
   "outputs": [],
   "source": [
    "import psycopg2\n",
    "import pandas as pd\n",
    "import yaml\n",
    "\n",
    "from sqlalchemy import create_engine\n",
    "from sqlalchemy import inspect"
   ]
  },
  {
   "cell_type": "code",
   "execution_count": 42,
   "metadata": {},
   "outputs": [],
   "source": [
    "#This will be used to connect with and upload data to the database\n",
    "class DatabaseConnector:\n",
    "    def read_db_creds(self): #reads the credentials from the yaml file and returns it as a dictionary \n",
    "        with open('db-creds.yaml', 'r') as file:\n",
    "            creds = yaml.safe_load(file)\n",
    "            return creds\n",
    "\n",
    "    def init_db_engine(self): #Uses the credentials to create and return an SQLAlchemy engine\n",
    "        creds = self.read_db_creds()\n",
    "        conn = f\"{creds['RDS_DATABASE']}://{creds['RDS_USER']}:{creds['RDS_PASSWORD']}@{creds['RDS_HOST']}:{creds['RDS_PORT']}\"\n",
    "        engine = create_engine(conn)\n",
    "        return engine\n",
    "\n",
    "    def list_db_tables(self): #lists all the table in the database\n",
    "        engine = self.init_db_engine()\n",
    "        inspector = inspect(engine)\n",
    "        tables_info = {}\n",
    "\n",
    "        for table_name in inspector.get_table_names():\n",
    "            columns = [column['name'] for column in inspector.get_columns(table_name)]\n",
    "            tables_info[table_name] = columns\n",
    "            print(f\"Table: {table_name}\")\n",
    "            print (table_name)\n",
    "            for column in columns:\n",
    "                print(f\"  Column: {column}\")\n",
    "                print(table_name)\n",
    "\n",
    "        print (tables_info)\n",
    "        return tables_info\n",
    "\n",
    "                \n",
    "#This class will work as a utility class, in it you will be creating methods that help extract data from different data sources\n",
    "#The methods contained will ve fit to extract data from a particular data source, these sources will include CSV files, an API and an S3 bucket\n",
    "class DataExtraction:\n",
    "    def read_rds_table(self, db_connector, table_name): #this will extract the database table to a panda DataFrame. db_connector is an instance on the DatabaseConnector class.\n",
    "        engine = db_connector.init_db_engine()\n",
    "        query = f\"SELECT * FROM {table_name}\"\n",
    "        df = pd.read_sql(query, engine)\n",
    "        return df\n",
    "\n",
    "\n",
    "#This containes methods to clean data from each of the data sources\n",
    "class DataCleaning:\n",
    "    def clean_user_data(self): #This will perform the cleaning for the user data\n",
    "        pass "
   ]
  },
  {
   "cell_type": "code",
   "execution_count": 43,
   "metadata": {},
   "outputs": [
    {
     "ename": "TypeError",
     "evalue": "'NoneType' object is not subscriptable",
     "output_type": "error",
     "traceback": [
      "\u001b[0;31m---------------------------------------------------------------------------\u001b[0m",
      "\u001b[0;31mTypeError\u001b[0m                                 Traceback (most recent call last)",
      "Cell \u001b[0;32mIn [43], line 2\u001b[0m\n\u001b[1;32m      1\u001b[0m db_connector \u001b[38;5;241m=\u001b[39m DatabaseConnector()\n\u001b[0;32m----> 2\u001b[0m table \u001b[38;5;241m=\u001b[39m db_connector\u001b[38;5;241m.\u001b[39mlist_db_tables()\n\u001b[1;32m      3\u001b[0m \u001b[38;5;28mprint\u001b[39m (table)\n",
      "Cell \u001b[0;32mIn [42], line 15\u001b[0m, in \u001b[0;36mDatabaseConnector.list_db_tables\u001b[0;34m(self)\u001b[0m\n\u001b[1;32m     14\u001b[0m \u001b[38;5;28;01mdef\u001b[39;00m \u001b[38;5;21mlist_db_tables\u001b[39m(\u001b[38;5;28mself\u001b[39m): \u001b[38;5;66;03m#lists all the table in the database\u001b[39;00m\n\u001b[0;32m---> 15\u001b[0m     engine \u001b[38;5;241m=\u001b[39m \u001b[38;5;28;43mself\u001b[39;49m\u001b[38;5;241;43m.\u001b[39;49m\u001b[43minit_db_engine\u001b[49m\u001b[43m(\u001b[49m\u001b[43m)\u001b[49m\n\u001b[1;32m     16\u001b[0m     inspector \u001b[38;5;241m=\u001b[39m inspect(engine)\n\u001b[1;32m     17\u001b[0m     tables_info \u001b[38;5;241m=\u001b[39m {}\n",
      "Cell \u001b[0;32mIn [42], line 10\u001b[0m, in \u001b[0;36mDatabaseConnector.init_db_engine\u001b[0;34m(self)\u001b[0m\n\u001b[1;32m      8\u001b[0m \u001b[38;5;28;01mdef\u001b[39;00m \u001b[38;5;21minit_db_engine\u001b[39m(\u001b[38;5;28mself\u001b[39m): \u001b[38;5;66;03m#Uses the credentials to create and return an SQLAlchemy engine\u001b[39;00m\n\u001b[1;32m      9\u001b[0m     creds \u001b[38;5;241m=\u001b[39m \u001b[38;5;28mself\u001b[39m\u001b[38;5;241m.\u001b[39mread_db_creds()\n\u001b[0;32m---> 10\u001b[0m     conn \u001b[38;5;241m=\u001b[39m \u001b[38;5;124mf\u001b[39m\u001b[38;5;124m\"\u001b[39m\u001b[38;5;132;01m{\u001b[39;00mcreds[\u001b[38;5;124m'\u001b[39m\u001b[38;5;124mRDS_DATABASE\u001b[39m\u001b[38;5;124m'\u001b[39m]\u001b[38;5;132;01m}\u001b[39;00m\u001b[38;5;124m://\u001b[39m\u001b[38;5;132;01m{\u001b[39;00mcreds[\u001b[38;5;124m'\u001b[39m\u001b[38;5;124mRDS_USER\u001b[39m\u001b[38;5;124m'\u001b[39m]\u001b[38;5;132;01m}\u001b[39;00m\u001b[38;5;124m:\u001b[39m\u001b[38;5;132;01m{\u001b[39;00mcreds[\u001b[38;5;124m'\u001b[39m\u001b[38;5;124mRDS_PASSWORD\u001b[39m\u001b[38;5;124m'\u001b[39m]\u001b[38;5;132;01m}\u001b[39;00m\u001b[38;5;124m@\u001b[39m\u001b[38;5;132;01m{\u001b[39;00mcreds[\u001b[38;5;124m'\u001b[39m\u001b[38;5;124mRDS_HOST\u001b[39m\u001b[38;5;124m'\u001b[39m]\u001b[38;5;132;01m}\u001b[39;00m\u001b[38;5;124m:\u001b[39m\u001b[38;5;132;01m{\u001b[39;00mcreds[\u001b[38;5;124m'\u001b[39m\u001b[38;5;124mRDS_PORT\u001b[39m\u001b[38;5;124m'\u001b[39m]\u001b[38;5;132;01m}\u001b[39;00m\u001b[38;5;124m\"\u001b[39m\n\u001b[1;32m     11\u001b[0m     engine \u001b[38;5;241m=\u001b[39m create_engine(conn)\n\u001b[1;32m     12\u001b[0m     \u001b[38;5;28;01mreturn\u001b[39;00m engine\n",
      "\u001b[0;31mTypeError\u001b[0m: 'NoneType' object is not subscriptable"
     ]
    }
   ],
   "source": [
    "db_connector = DatabaseConnector()\n",
    "table = db_connector.list_db_tables()\n",
    "print (table)"
   ]
  },
  {
   "cell_type": "code",
   "execution_count": 34,
   "metadata": {},
   "outputs": [
    {
     "name": "stdout",
     "output_type": "stream",
     "text": [
      "<class 'method'>\n"
     ]
    }
   ],
   "source": [
    "print(type(db_connector.init_db_engine))\n"
   ]
  },
  {
   "cell_type": "code",
   "execution_count": 44,
   "metadata": {},
   "outputs": [
    {
     "ename": "TypeError",
     "evalue": "'NoneType' object is not subscriptable",
     "output_type": "error",
     "traceback": [
      "\u001b[0;31m---------------------------------------------------------------------------\u001b[0m",
      "\u001b[0;31mTypeError\u001b[0m                                 Traceback (most recent call last)",
      "Cell \u001b[0;32mIn [44], line 1\u001b[0m\n\u001b[0;32m----> 1\u001b[0m test \u001b[38;5;241m=\u001b[39m db_connector\u001b[38;5;241m.\u001b[39minit_db_engine()\n\u001b[1;32m      2\u001b[0m \u001b[38;5;28mprint\u001b[39m(\u001b[38;5;28mtype\u001b[39m(test))\n",
      "Cell \u001b[0;32mIn [42], line 10\u001b[0m, in \u001b[0;36mDatabaseConnector.init_db_engine\u001b[0;34m(self)\u001b[0m\n\u001b[1;32m      8\u001b[0m \u001b[38;5;28;01mdef\u001b[39;00m \u001b[38;5;21minit_db_engine\u001b[39m(\u001b[38;5;28mself\u001b[39m): \u001b[38;5;66;03m#Uses the credentials to create and return an SQLAlchemy engine\u001b[39;00m\n\u001b[1;32m      9\u001b[0m     creds \u001b[38;5;241m=\u001b[39m \u001b[38;5;28mself\u001b[39m\u001b[38;5;241m.\u001b[39mread_db_creds()\n\u001b[0;32m---> 10\u001b[0m     conn \u001b[38;5;241m=\u001b[39m \u001b[38;5;124mf\u001b[39m\u001b[38;5;124m\"\u001b[39m\u001b[38;5;132;01m{\u001b[39;00mcreds[\u001b[38;5;124m'\u001b[39m\u001b[38;5;124mRDS_DATABASE\u001b[39m\u001b[38;5;124m'\u001b[39m]\u001b[38;5;132;01m}\u001b[39;00m\u001b[38;5;124m://\u001b[39m\u001b[38;5;132;01m{\u001b[39;00mcreds[\u001b[38;5;124m'\u001b[39m\u001b[38;5;124mRDS_USER\u001b[39m\u001b[38;5;124m'\u001b[39m]\u001b[38;5;132;01m}\u001b[39;00m\u001b[38;5;124m:\u001b[39m\u001b[38;5;132;01m{\u001b[39;00mcreds[\u001b[38;5;124m'\u001b[39m\u001b[38;5;124mRDS_PASSWORD\u001b[39m\u001b[38;5;124m'\u001b[39m]\u001b[38;5;132;01m}\u001b[39;00m\u001b[38;5;124m@\u001b[39m\u001b[38;5;132;01m{\u001b[39;00mcreds[\u001b[38;5;124m'\u001b[39m\u001b[38;5;124mRDS_HOST\u001b[39m\u001b[38;5;124m'\u001b[39m]\u001b[38;5;132;01m}\u001b[39;00m\u001b[38;5;124m:\u001b[39m\u001b[38;5;132;01m{\u001b[39;00mcreds[\u001b[38;5;124m'\u001b[39m\u001b[38;5;124mRDS_PORT\u001b[39m\u001b[38;5;124m'\u001b[39m]\u001b[38;5;132;01m}\u001b[39;00m\u001b[38;5;124m\"\u001b[39m\n\u001b[1;32m     11\u001b[0m     engine \u001b[38;5;241m=\u001b[39m create_engine(conn)\n\u001b[1;32m     12\u001b[0m     \u001b[38;5;28;01mreturn\u001b[39;00m engine\n",
      "\u001b[0;31mTypeError\u001b[0m: 'NoneType' object is not subscriptable"
     ]
    }
   ],
   "source": [
    "test = db_connector.init_db_engine()\n",
    "print(type(test))"
   ]
  },
  {
   "cell_type": "markdown",
   "metadata": {},
   "source": []
  },
  {
   "cell_type": "code",
   "execution_count": null,
   "metadata": {},
   "outputs": [],
   "source": []
  },
  {
   "cell_type": "code",
   "execution_count": null,
   "metadata": {},
   "outputs": [],
   "source": []
  },
  {
   "cell_type": "code",
   "execution_count": null,
   "metadata": {},
   "outputs": [],
   "source": []
  },
  {
   "cell_type": "code",
   "execution_count": null,
   "metadata": {},
   "outputs": [],
   "source": []
  },
  {
   "cell_type": "code",
   "execution_count": 17,
   "metadata": {},
   "outputs": [
    {
     "ename": "TypeError",
     "evalue": "'NoneType' object is not iterable",
     "output_type": "error",
     "traceback": [
      "\u001b[0;31m---------------------------------------------------------------------------\u001b[0m",
      "\u001b[0;31mTypeError\u001b[0m                                 Traceback (most recent call last)",
      "Cell \u001b[0;32mIn [17], line 9\u001b[0m\n\u001b[1;32m      6\u001b[0m tables_info \u001b[38;5;241m=\u001b[39m db_connector\u001b[38;5;241m.\u001b[39mlist_db_tables()\n\u001b[1;32m      8\u001b[0m \u001b[38;5;66;03m# Find the user table name\u001b[39;00m\n\u001b[0;32m----> 9\u001b[0m user_table_name \u001b[38;5;241m=\u001b[39m \u001b[38;5;28mnext\u001b[39m((table \u001b[38;5;28;01mfor\u001b[39;00m table \u001b[38;5;129;01min\u001b[39;00m tables_info \u001b[38;5;28;01mif\u001b[39;00m \u001b[38;5;124m'\u001b[39m\u001b[38;5;124muser\u001b[39m\u001b[38;5;124m'\u001b[39m \u001b[38;5;129;01min\u001b[39;00m table\u001b[38;5;241m.\u001b[39mlower()), \u001b[38;5;28;01mNone\u001b[39;00m)\n\u001b[1;32m     11\u001b[0m \u001b[38;5;28;01mif\u001b[39;00m user_table_name:\n\u001b[1;32m     12\u001b[0m     \u001b[38;5;66;03m# Read the user table into a DataFrame\u001b[39;00m\n\u001b[1;32m     13\u001b[0m     user_df \u001b[38;5;241m=\u001b[39m data_extractor\u001b[38;5;241m.\u001b[39mread_rds_table(db_connector, user_table_name)\n",
      "\u001b[0;31mTypeError\u001b[0m: 'NoneType' object is not iterable"
     ]
    }
   ],
   "source": [
    "# Instantiate the classes\n",
    "db_connector = DatabaseConnector()\n",
    "data_extractor = DataExtraction()\n",
    "\n",
    "# List all tables and print their columns\n",
    "tables_info = db_connector.list_db_tables()\n",
    "\n",
    "# Find the user table name\n",
    "user_table_name = next((table for table in tables_info if 'user' in table.lower()), None)\n",
    "\n",
    "if user_table_name:\n",
    "    # Read the user table into a DataFrame\n",
    "    user_df = data_extractor.read_rds_table(db_connector, user_table_name)\n",
    "    # Display the first few rows of the DataFrame\n",
    "    print(user_df.head())\n",
    "else:\n",
    "    print(\"User table not found.\")\n"
   ]
  },
  {
   "cell_type": "code",
   "execution_count": 13,
   "metadata": {},
   "outputs": [],
   "source": [
    "db_connector = DatabaseConnector()\n",
    "data_extractor = DataExtraction()"
   ]
  },
  {
   "cell_type": "code",
   "execution_count": 15,
   "metadata": {},
   "outputs": [
    {
     "ename": "TypeError",
     "evalue": "'NoneType' object is not iterable",
     "output_type": "error",
     "traceback": [
      "\u001b[0;31m---------------------------------------------------------------------------\u001b[0m",
      "\u001b[0;31mTypeError\u001b[0m                                 Traceback (most recent call last)",
      "Cell \u001b[0;32mIn [15], line 2\u001b[0m\n\u001b[1;32m      1\u001b[0m tables_info \u001b[38;5;241m=\u001b[39m db_connector\u001b[38;5;241m.\u001b[39mlist_db_tables()\n\u001b[0;32m----> 2\u001b[0m user_table_name \u001b[38;5;241m=\u001b[39m \u001b[38;5;28mnext\u001b[39m((table \u001b[38;5;28;01mfor\u001b[39;00m table \u001b[38;5;129;01min\u001b[39;00m tables_info \u001b[38;5;28;01mif\u001b[39;00m \u001b[38;5;124m'\u001b[39m\u001b[38;5;124muser\u001b[39m\u001b[38;5;124m'\u001b[39m \u001b[38;5;129;01min\u001b[39;00m table\u001b[38;5;241m.\u001b[39mlower()), \u001b[38;5;28;01mNone\u001b[39;00m)\n\u001b[1;32m      4\u001b[0m \u001b[38;5;28;01mif\u001b[39;00m user_table_name:\n\u001b[1;32m      5\u001b[0m     user_df \u001b[38;5;241m=\u001b[39m data_extractor\u001b[38;5;241m.\u001b[39mread_rds_table(db_connector, user_table_name)\n",
      "\u001b[0;31mTypeError\u001b[0m: 'NoneType' object is not iterable"
     ]
    }
   ],
   "source": [
    "tables_info = db_connector.list_db_tables()\n",
    "user_table_name = next((table for table in tables_info if 'user' in table.lower()), None)\n",
    "\n",
    "if user_table_name:\n",
    "    user_df = data_extractor.read_rds_table(db_connector, user_table_name)\n",
    "    print(user_df.head())\n",
    "else:\n",
    "    print(\"User table not found.\")"
   ]
  }
 ],
 "metadata": {
  "kernelspec": {
   "display_name": "Python 3.9.6 64-bit",
   "language": "python",
   "name": "python3"
  },
  "language_info": {
   "codemirror_mode": {
    "name": "ipython",
    "version": 3
   },
   "file_extension": ".py",
   "mimetype": "text/x-python",
   "name": "python",
   "nbconvert_exporter": "python",
   "pygments_lexer": "ipython3",
   "version": "3.9.6"
  },
  "orig_nbformat": 4,
  "vscode": {
   "interpreter": {
    "hash": "31f2aee4e71d21fbe5cf8b01ff0e069b9275f58929596ceb00d14d90e3e16cd6"
   }
  }
 },
 "nbformat": 4,
 "nbformat_minor": 2
}
